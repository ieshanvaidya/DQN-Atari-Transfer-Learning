{
 "cells": [
  {
   "cell_type": "markdown",
   "metadata": {},
   "source": [
    "## Some Notes:\n",
    "\n",
    "1. Environment versions: [https://github.com/openai/gym/issues/1280](https://github.com/openai/gym/issues/1280)\n",
    "\n",
    "   If you look at the atari_env source code, essentially:\n",
    "    - v0 vs v4: v0 has repeat_action_probability of 0.25 (meaning 25% of the time the previous action will be used instead of the new action), while v4 has 0 (always follow your issued action) \n",
    "    - Deterministic: a fixed frameskip of 4, while for the env without Deterministic, frameskip is sampled from (2,5) (code here)\n",
    "    \n",
    "   There is also NoFrameskip-v4 with no frame skip and no action repeat stochasticity.\n",
    "   \n",
    "2. Frame skipping: [https://danieltakeshi.github.io/2016/11/25/frame-skipping-and-preprocessing-for-deep-q-networks-on-atari-2600-games/](https://danieltakeshi.github.io/2016/11/25/frame-skipping-and-preprocessing-for-deep-q-networks-on-atari-2600-games/)\n",
    "\n",
    "   ![](https://danieltakeshi.github.io/assets/breakout_images_max.png)\n",
    "   \n",
    "   - Frame-skip of 4\n",
    "   - For every $4t^{\\text{th}}$ frame, max is taken over $4t^{\\text{th}}$ and $(4t - 1)^{\\text{th}}$ frames.\n",
    "   - State thus consists of $[\\max(f_{t-1}, f_t), \\max(f_{t+3}, f_{t+4}), \\max(f_{t+7}, f_{t+8}), \\max(f_{t+11}, f_{t+12})]$\n",
    "   - Action is repeated for skipped states"
   ]
  },
  {
   "cell_type": "code",
   "execution_count": 1,
   "metadata": {},
   "outputs": [],
   "source": [
    "import numpy as np\n",
    "import torch\n",
    "from torchvision import transforms\n",
    "from PIL import Image\n",
    "import gym\n",
    "import matplotlib.pyplot as plt"
   ]
  },
  {
   "cell_type": "code",
   "execution_count": 2,
   "metadata": {},
   "outputs": [],
   "source": [
    "class Preprocessor:\n",
    "    def __init__(self, agent_history_length=4, interpolation=Image.NEAREST):\n",
    "        \"\"\"\n",
    "        Performs preprocessing steps on raw Atari input. Refer to DQN paper for terminology.\n",
    "            agent_history_length: Number of frames to stack\n",
    "            interpolation: Filter used during resize.\n",
    "                           Refer to - https://pillow.readthedocs.io/en/stable/handbook/concepts.html#concept-filters\n",
    "        \"\"\"\n",
    "        self.buffer = torch.zeros((agent_history_length, 84, 84))\n",
    "        self.transform = transforms.Compose([\n",
    "            transforms.ToPILImage(),\n",
    "            transforms.Grayscale(num_output_channels=1),\n",
    "            transforms.Resize(size=(84, 84), interpolation=interpolation),\n",
    "            transforms.ToTensor()\n",
    "        ])\n",
    "        \n",
    "        self.to_pil = transforms.ToPILImage()\n",
    "\n",
    "    def reset(self):\n",
    "        self.buffer = torch.zeros_like(self.buffer)\n",
    "\n",
    "    def process(self, frame):\n",
    "        \"\"\"\n",
    "        Process Atari frame and return tensor that can feed into the estimator\n",
    "        \"\"\"\n",
    "        out = self.transform(frame)\n",
    "        self.buffer[:-1] = self.buffer[1:].clone()\n",
    "        self.buffer[-1] = out\n",
    "\n",
    "        return self.buffer.clone()\n",
    "    \n",
    "    def visualize_buffer(self):\n",
    "        n = self.buffer.shape[0]\n",
    "        fig, ax = plt.subplots(nrows=1, ncols=n, figsize=(12,24))\n",
    "        for i in range(n):\n",
    "            ax[i].imshow(self.to_pil(self.buffer[i]), cmap='gray')\n",
    "            ax[i].axis('off')\n",
    "        return fig"
   ]
  },
  {
   "cell_type": "code",
   "execution_count": 3,
   "metadata": {},
   "outputs": [],
   "source": [
    "def frameskip(env, action, skips=4):\n",
    "    all_reward, all_frames, all_done, all_info = 0, [], False, []\n",
    "    \n",
    "    for i in range(skips):\n",
    "        frame, reward, done, info = env.step(action)\n",
    "        all_frames.append(frame)\n",
    "        all_reward += reward\n",
    "        all_done |= done\n",
    "        all_info.append(info)\n",
    "        \n",
    "        if done:\n",
    "            break\n",
    "    \n",
    "    if len(all_frames) == skips:\n",
    "        frame = np.maximum(all_frames[-2], all_frames[-1])\n",
    "    \n",
    "    else:\n",
    "        frame = all_frames[-1]\n",
    "    \n",
    "    return frame, all_reward, all_done, all_info"
   ]
  },
  {
   "cell_type": "markdown",
   "metadata": {},
   "source": [
    "### Visualize buffer with random actions"
   ]
  },
  {
   "cell_type": "code",
   "execution_count": 4,
   "metadata": {},
   "outputs": [],
   "source": [
    "env = gym.make('AssaultNoFrameskip-v4')"
   ]
  },
  {
   "cell_type": "code",
   "execution_count": 5,
   "metadata": {},
   "outputs": [
    {
     "data": {
      "image/png": "[encoded data removed]",
      "text/plain": [
       "<Figure size 864x1728 with 4 Axes>"
      ]
     },
     "metadata": {
      "needs_background": "light"
     },
     "output_type": "display_data"
    },
    {
     "data": {
      "image/png": "[encoded data removed]",
      "text/plain": [
       "<Figure size 864x1728 with 4 Axes>"
      ]
     },
     "metadata": {
      "needs_background": "light"
     },
     "output_type": "display_data"
    },
    {
     "data": {
      "image/png": "[encoded data removed]",
      "text/plain": [
       "<Figure size 864x1728 with 4 Axes>"
      ]
     },
     "metadata": {
      "needs_background": "light"
     },
     "output_type": "display_data"
    },
    {
     "data": {
      "image/png": "[encoded data removed]",
      "text/plain": [
       "<Figure size 864x1728 with 4 Axes>"
      ]
     },
     "metadata": {
      "needs_background": "light"
     },
     "output_type": "display_data"
    },
    {
     "data": {
      "image/png": "[encoded data removed]",
      "text/plain": [
       "<Figure size 864x1728 with 4 Axes>"
      ]
     },
     "metadata": {
      "needs_background": "light"
     },
     "output_type": "display_data"
    },
    {
     "data": {
      "image/png": "[encoded data removed]",
      "text/plain": [
       "<Figure size 864x1728 with 4 Axes>"
      ]
     },
     "metadata": {
      "needs_background": "light"
     },
     "output_type": "display_data"
    },
    {
     "data": {
      "image/png": "[encoded data removed]",
      "text/plain": [
       "<Figure size 864x1728 with 4 Axes>"
      ]
     },
     "metadata": {
      "needs_background": "light"
     },
     "output_type": "display_data"
    },
    {
     "data": {
      "image/png": "[encoded data removed]",
      "text/plain": [
       "<Figure size 864x1728 with 4 Axes>"
      ]
     },
     "metadata": {
      "needs_background": "light"
     },
     "output_type": "display_data"
    },
    {
     "data": {
      "image/png": "[encoded data removed]",
      "text/plain": [
       "<Figure size 864x1728 with 4 Axes>"
      ]
     },
     "metadata": {
      "needs_background": "light"
     },
     "output_type": "display_data"
    },
    {
     "data": {
      "image/png": "[encoded data removed]",
      "text/plain": [
       "<Figure size 864x1728 with 4 Axes>"
      ]
     },
     "metadata": {
      "needs_background": "light"
     },
     "output_type": "display_data"
    }
   ],
   "source": [
    "steps = 10\n",
    "preprocessor = Preprocessor()\n",
    "state = env.reset()\n",
    "\n",
    "for step in range(steps):\n",
    "    buffer = preprocessor.process(state)\n",
    "    fig = preprocessor.visualize_buffer()\n",
    "    \n",
    "    action = env.action_space.sample()\n",
    "    state, reward, done, info = frameskip(env, action=action)"
   ]
  },
  {
   "cell_type": "code",
   "execution_count": null,
   "metadata": {},
   "outputs": [],
   "source": []
  }
 ],
 "metadata": {
  "kernelspec": {
   "display_name": "Python 3",
   "language": "python",
   "name": "python3"
  },
  "language_info": {
   "codemirror_mode": {
    "name": "ipython",
    "version": 3
   },
   "file_extension": ".py",
   "mimetype": "text/x-python",
   "name": "python",
   "nbconvert_exporter": "python",
   "pygments_lexer": "ipython3",
   "version": "3.7.6"
  }
 },
 "nbformat": 4,
 "nbformat_minor": 4
}
