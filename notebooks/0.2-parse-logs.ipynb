{
 "cells": [
  {
   "cell_type": "code",
   "execution_count": null,
   "metadata": {},
   "outputs": [],
   "source": [
    "import os"
   ]
  },
  {
   "cell_type": "code",
   "execution_count": null,
   "metadata": {},
   "outputs": [],
   "source": [
    "if os.getcwd().split('/')[-1] == 'notebooks':\n",
    "    os.chdir('..')\n",
    "    print(os.getcwd())"
   ]
  },
  {
   "cell_type": "code",
   "execution_count": null,
   "metadata": {},
   "outputs": [],
   "source": [
    "import numpy as np\n",
    "import matplotlib.pyplot as plt\n",
    "import matplotlib.style as style\n",
    "import yaml"
   ]
  },
  {
   "cell_type": "code",
   "execution_count": null,
   "metadata": {},
   "outputs": [],
   "source": [
    "style.use('seaborn-poster')"
   ]
  },
  {
   "cell_type": "code",
   "execution_count": null,
   "metadata": {},
   "outputs": [],
   "source": [
    "name = 'untitled-01'"
   ]
  },
  {
   "cell_type": "code",
   "execution_count": null,
   "metadata": {},
   "outputs": [],
   "source": [
    "def parse_logs(name):\n",
    "    file = os.path.join('logs', name, 'train.log')\n",
    "    with open(file, 'r') as f:\n",
    "        logs = f.read()\n",
    "    episodes = []\n",
    "    epsilon = []\n",
    "    network_updates = []\n",
    "    mean_rewards = []\n",
    "    mean_lengths = []\n",
    "    for line in logs.split('\\n')[:-1]:\n",
    "        datum = line.split(', ')\n",
    "        episode = int(datum[0].split(':')[1])\n",
    "        eps = float(datum[1].split(':')[1])\n",
    "        nu = int(datum[2].split(':')[1])\n",
    "        emr = float(datum[3].split(':')[1])\n",
    "        eml = float(datum[4].split(':')[1])\n",
    "        episodes.append(episode)\n",
    "        epsilon.append(eps)\n",
    "        network_updates.append(nu)\n",
    "        mean_rewards.append(emr)\n",
    "        mean_lengths.append(eml)\n",
    "        \n",
    "    return episodes, epsilon, network_updates, mean_rewards, mean_lengths"
   ]
  },
  {
   "cell_type": "code",
   "execution_count": null,
   "metadata": {},
   "outputs": [],
   "source": [
    "episodes, epsilon, network_updates, mean_rewards, mean_lengths = parse_logs(name)"
   ]
  },
  {
   "cell_type": "code",
   "execution_count": null,
   "metadata": {},
   "outputs": [],
   "source": [
    "fig, ax = plt.subplots(1, 2, figsize=(14,6))\n",
    "ax[0].plot(episodes, mean_rewards, color='blue', lw=1)\n",
    "ax[0].set_title('mean_rewards')\n",
    "ax[1].plot(episodes, mean_lengths, color='green', lw=1)\n",
    "ax[1].set_title('mean lengths')\n",
    "plt.tight_layout()\n",
    "#fig.savefig('metrics.png', bbox_inches='tight')\n",
    "plt.show()"
   ]
  },
  {
   "cell_type": "code",
   "execution_count": null,
   "metadata": {},
   "outputs": [],
   "source": []
  }
 ],
 "metadata": {
  "kernelspec": {
   "display_name": "Python 3",
   "language": "python",
   "name": "python3"
  },
  "language_info": {
   "codemirror_mode": {
    "name": "ipython",
    "version": 3
   },
   "file_extension": ".py",
   "mimetype": "text/x-python",
   "name": "python",
   "nbconvert_exporter": "python",
   "pygments_lexer": "ipython3",
   "version": "3.7.6"
  }
 },
 "nbformat": 4,
 "nbformat_minor": 4
}
